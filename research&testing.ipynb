{
 "cells": [
  {
   "cell_type": "code",
   "execution_count": 3,
   "id": "76ccb5e1",
   "metadata": {},
   "outputs": [
    {
     "name": "stdout",
     "output_type": "stream",
     "text": [
      "Requirement already satisfied: python-docx in c:\\users\\prath\\appdata\\local\\programs\\python\\python310\\lib\\site-packages (1.2.0)\n",
      "Requirement already satisfied: lxml>=3.1.0 in c:\\users\\prath\\appdata\\local\\programs\\python\\python310\\lib\\site-packages (from python-docx) (5.4.0)\n",
      "Requirement already satisfied: typing_extensions>=4.9.0 in c:\\users\\prath\\appdata\\local\\programs\\python\\python310\\lib\\site-packages (from python-docx) (4.14.1)\n"
     ]
    },
    {
     "name": "stderr",
     "output_type": "stream",
     "text": [
      "WARNING: Ignoring invalid distribution -treamlit (c:\\users\\prath\\appdata\\local\\programs\\python\\python310\\lib\\site-packages)\n",
      "WARNING: Ignoring invalid distribution -treamlit (c:\\users\\prath\\appdata\\local\\programs\\python\\python310\\lib\\site-packages)\n",
      "WARNING: Ignoring invalid distribution -treamlit (c:\\users\\prath\\appdata\\local\\programs\\python\\python310\\lib\\site-packages)\n"
     ]
    }
   ],
   "source": [
    "!pip install python-docx"
   ]
  },
  {
   "cell_type": "code",
   "execution_count": 1,
   "id": "23594573",
   "metadata": {},
   "outputs": [
    {
     "name": "stdout",
     "output_type": "stream",
     "text": [
      "Hi, my name is Pratham Asthana. I am currently pursuing B.Tech in AI&ML. \n",
      "This word file is to test whether the code is able to extract text from word documents or not.\n",
      "\n"
     ]
    }
   ],
   "source": [
    "from docx import Document\n",
    "\n",
    "def extract_text_from_docx(file_path):\n",
    "    doc = Document(file_path)\n",
    "    text = \"\"\n",
    "    for para in doc.paragraphs:\n",
    "        text += para.text + \"\\n\"\n",
    "    \n",
    "    return text\n",
    "\n",
    "file_path = \"test.docx\"  \n",
    "content = extract_text_from_docx(file_path)\n",
    "print(content)\n"
   ]
  },
  {
   "cell_type": "code",
   "execution_count": null,
   "id": "ccf8b20a",
   "metadata": {},
   "outputs": [],
   "source": [
    "import pyttsx3\n",
    "\n",
    "engine = pyttsx3.init()\n",
    "\n",
    "engine.setProperty('rate', 150)     \n",
    "engine.setProperty('volume', 1.0)   \n",
    "\n",
    "engine.say(content)\n",
    "engine.runAndWait()\n"
   ]
  },
  {
   "cell_type": "code",
   "execution_count": 8,
   "id": "3ba3cf1b",
   "metadata": {},
   "outputs": [
    {
     "name": "stdout",
     "output_type": "stream",
     "text": [
      "Collecting PyMuPDF\n",
      "  Downloading pymupdf-1.26.5-cp39-abi3-win_amd64.whl.metadata (3.4 kB)\n",
      "Requirement already satisfied: pillow in c:\\users\\prath\\appdata\\local\\programs\\python\\python310\\lib\\site-packages (11.3.0)\n",
      "Downloading pymupdf-1.26.5-cp39-abi3-win_amd64.whl (18.7 MB)\n",
      "   ---------------------------------------- 0.0/18.7 MB ? eta -:--:--\n",
      "   -- ------------------------------------- 1.0/18.7 MB 5.6 MB/s eta 0:00:04\n",
      "   --- ------------------------------------ 1.8/18.7 MB 5.0 MB/s eta 0:00:04\n",
      "   ------ --------------------------------- 2.9/18.7 MB 4.5 MB/s eta 0:00:04\n",
      "   ------- -------------------------------- 3.7/18.7 MB 4.5 MB/s eta 0:00:04\n",
      "   ---------- ----------------------------- 4.7/18.7 MB 4.7 MB/s eta 0:00:03\n",
      "   ------------ --------------------------- 5.8/18.7 MB 4.8 MB/s eta 0:00:03\n",
      "   ------------- -------------------------- 6.6/18.7 MB 4.7 MB/s eta 0:00:03\n",
      "   --------------- ------------------------ 7.1/18.7 MB 4.5 MB/s eta 0:00:03\n",
      "   ----------------- ---------------------- 8.1/18.7 MB 4.3 MB/s eta 0:00:03\n",
      "   ------------------- -------------------- 9.2/18.7 MB 4.4 MB/s eta 0:00:03\n",
      "   -------------------- ------------------- 9.7/18.7 MB 4.3 MB/s eta 0:00:03\n",
      "   ---------------------- ----------------- 10.7/18.7 MB 4.3 MB/s eta 0:00:02\n",
      "   ------------------------- -------------- 11.8/18.7 MB 4.4 MB/s eta 0:00:02\n",
      "   -------------------------- ------------- 12.6/18.7 MB 4.3 MB/s eta 0:00:02\n",
      "   ----------------------------- ---------- 13.6/18.7 MB 4.4 MB/s eta 0:00:02\n",
      "   ------------------------------- -------- 14.7/18.7 MB 4.4 MB/s eta 0:00:01\n",
      "   --------------------------------- ------ 15.5/18.7 MB 4.4 MB/s eta 0:00:01\n",
      "   ---------------------------------- ----- 16.3/18.7 MB 4.3 MB/s eta 0:00:01\n",
      "   ------------------------------------ --- 17.0/18.7 MB 4.3 MB/s eta 0:00:01\n",
      "   ------------------------------------- -- 17.6/18.7 MB 4.2 MB/s eta 0:00:01\n",
      "   ------------------------------------- -- 17.6/18.7 MB 4.2 MB/s eta 0:00:01\n",
      "   -------------------------------------- - 17.8/18.7 MB 4.0 MB/s eta 0:00:01\n",
      "   ---------------------------------------  18.4/18.7 MB 3.8 MB/s eta 0:00:01\n",
      "   ---------------------------------------- 18.7/18.7 MB 3.7 MB/s  0:00:05\n",
      "Installing collected packages: PyMuPDF\n",
      "Successfully installed PyMuPDF-1.26.5\n",
      "Note: you may need to restart the kernel to use updated packages.\n"
     ]
    },
    {
     "name": "stderr",
     "output_type": "stream",
     "text": [
      "WARNING: Ignoring invalid distribution -treamlit (c:\\users\\prath\\appdata\\local\\programs\\python\\python310\\lib\\site-packages)\n",
      "WARNING: Ignoring invalid distribution -treamlit (c:\\users\\prath\\appdata\\local\\programs\\python\\python310\\lib\\site-packages)\n",
      "WARNING: Ignoring invalid distribution -treamlit (c:\\users\\prath\\appdata\\local\\programs\\python\\python310\\lib\\site-packages)\n"
     ]
    }
   ],
   "source": [
    "pip install PyMuPDF pillow\n"
   ]
  },
  {
   "cell_type": "code",
   "execution_count": 2,
   "id": "43b33760",
   "metadata": {},
   "outputs": [
    {
     "name": "stdout",
     "output_type": "stream",
     "text": [
      " Saved output_images\\page_1.png\n"
     ]
    }
   ],
   "source": [
    "import fitz  \n",
    "from PIL import Image\n",
    "import os\n",
    "\n",
    "def pdf_to_images_fitz(pdf_path, output_folder):\n",
    "    os.makedirs(output_folder, exist_ok=True)\n",
    "    \n",
    "    with fitz.open(pdf_path) as pdf:\n",
    "        for page_num in range(len(pdf)):\n",
    "            page = pdf.load_page(page_num)\n",
    "            pix = page.get_pixmap()\n",
    "            img_path = os.path.join(output_folder, f\"page_{page_num + 1}.png\")\n",
    "            pix.save(img_path)\n",
    "            print(f\" Saved {img_path}\")\n",
    "\n",
    "pdf_to_images_fitz(\"Disha.pdf\", \"output_images\")\n"
   ]
  },
  {
   "cell_type": "code",
   "execution_count": 3,
   "id": "f1998430",
   "metadata": {},
   "outputs": [
    {
     "name": "stderr",
     "output_type": "stream",
     "text": [
      "Neither CUDA nor MPS are available - defaulting to CPU. Note: This module is much faster with a GPU.\n",
      "c:\\Users\\prath\\AppData\\Local\\Programs\\Python\\Python310\\lib\\site-packages\\torch\\utils\\data\\dataloader.py:666: UserWarning: 'pin_memory' argument is set as true but no accelerator is found, then device pinned memory won't be used.\n",
      "  warnings.warn(warn_msg)\n"
     ]
    },
    {
     "name": "stdout",
     "output_type": "stream",
     "text": [
      "Detected text: DISHA GUPTA (Confidence: 0.89)\n",
      "Detected text: (+91) 98718[7716 _ (Confidence: 0.39)\n",
      "Detected text: Delhi_ Indlia (Confidence: 0.55)\n",
      "Detected text: guptadisha.1I(D !gmailcom (Confidence: 0.20)\n",
      "Detected text: Leetcode (Confidence: 0.59)\n",
      "Detected text: Linkedln (Confidence: 0.95)\n",
      "Detected text: GitHub (Confidence: 0.94)\n",
      "Detected text: OBJECTIVE (Confidence: 0.91)\n",
      "Detected text: Detail-oriented and (Confidence: 0.66)\n",
      "Detected text: Ms-onale (Confidence: 0.10)\n",
      "Detected text: Computer Science student seeking (Confidence: 0.58)\n",
      "Detected text: Soltware Developer role. (Confidence: 0.96)\n",
      "Detected text: contribmte (Confidence: 0.24)\n",
      "Detected text: USET-centric. high-performance weeb (Confidence: 0.16)\n",
      "Detected text: applications (Confidence: 1.00)\n",
      "Detected text: callahoratiue (Confidence: 0.15)\n",
      "Detected text: agile development (Confidence: 0.98)\n",
      "Detected text: enxironment (Confidence: 0.57)\n",
      "Detected text: UCATION (Confidence: 1.00)\n",
      "Detected text: Dachelor (Confidence: 0.60)\n",
      "Detected text: Technology . 'IMS Engineering Management Technical Campus (Confidence: 0.42)\n",
      "Detected text: Expected \"026 (Confidence: 0.74)\n",
      "Detected text: Computer Science (Confidence: 0.63)\n",
      "Detected text: CESE Senior (Confidence: 0.76)\n",
      "Detected text: Secondart (Confidence: 0.65)\n",
      "Detected text: (XII) . Bal Mandir Sr. Sec. School (Confidence: 0.41)\n",
      "Detected text: \"022 (Confidence: 0.38)\n",
      "Detected text: SKILLS (Confidence: 0.94)\n",
      "Detected text: Technical Skills (Confidence: 0.91)\n",
      "Detected text: React js_ Node-js. Express-js SQL; JavaScript (ESG+}. HTML  CSS:. (Confidence: 0.14)\n",
      "Detected text: React Kouter. Redux (Confidence: 0.52)\n",
      "Detected text: Toolkit _ (Confidence: 0.61)\n",
      "Detected text: Keaet (Confidence: 0.12)\n",
      "Detected text: Hooks (Confidence: 0.33)\n",
      "Detected text: Git . (Confidence: 0.39)\n",
      "Detected text: Firehas0 (Confidence: 0.08)\n",
      "Detected text: Vite. JISON. Figma (Confidence: 0.45)\n",
      "Detected text: DOM Manipulation. (Confidence: 0.82)\n",
      "Detected text: Debugging. (Confidence: 0.76)\n",
      "Detected text: Version Control, (Confidence: 0.81)\n",
      "Detected text: AFile (Confidence: 0.36)\n",
      "Detected text: Develunment (Confidence: 0.22)\n",
      "Detected text: Ohjeet-Oriented Programming (Confidence: 0.75)\n",
      "Detected text: (OOPs). C-+. DSA (Confidence: 0.24)\n",
      "Detected text: (LeetCodle (Confidence: 0.59)\n",
      "Detected text: 13+ (Confidence: 0.54)\n",
      "Detected text: probems (Confidence: 0.31)\n",
      "Detected text: Soft Skills (Confidence: 0.50)\n",
      "Detected text: Commnnication_ (Confidence: 0.38)\n",
      "Detected text: Ueam (Confidence: 0.32)\n",
      "Detected text: Comanoration (Confidence: 0.12)\n",
      "Detected text: Problem Solving- (Confidence: 0.64)\n",
      "Detected text: Adaptability.  Time Management . (Confidence: 0.44)\n",
      "Detected text: Attentiol (Confidence: 0.15)\n",
      "Detected text: Detail. Critical Thinking- Creativity (Confidence: 0.65)\n",
      "Detected text: GitHnb. VS-Code. Postman (Confidence: 0.51)\n",
      "Detected text: EXPERIENCE (Confidence: 1.00)\n",
      "Detected text: Frontend (Confidence: 0.94)\n",
      "Detected text: Developer (Confidence: 0.81)\n",
      "Detected text: ntern (Confidence: 0.88)\n",
      "Detected text: 2021 (Confidence: 0.19)\n",
      "Detected text: Jan \"2025 (Confidence: 0.21)\n",
      "Detected text: Appinnovix (Confidence: 0.48)\n",
      "Detected text: Lucknou: (Confidence: 0.47)\n",
      "Detected text: Pradesh (Confidence: 0.34)\n",
      "Detected text: Developexl responsive (Confidence: 0.65)\n",
      "Detected text: crost-brOWSCr (Confidence: 0.20)\n",
      "Detected text: intercts MsinY (Confidence: 0.16)\n",
      "Detected text: HTMLS CSS;, (Confidence: 0.33)\n",
      "Detected text: and JavaScript (ES6+). improving perfor- (Confidence: 0.53)\n",
      "Detected text: MALCe Ad acceasibility (Confidence: 0.13)\n",
      "Detected text: ACros (Confidence: 0.25)\n",
      "Detected text: devce? (Confidence: 0.25)\n",
      "Detected text: Euilt modular (Confidence: 0.80)\n",
      "Detected text: scalable UI components with React js (Confidence: 0.73)\n",
      "Detected text: Reac (Confidence: 0.22)\n",
      "Detected text: HocksAdl (Confidence: 0.13)\n",
      "Detected text: Rexlux Toolkit . enhancing application (Confidence: 0.86)\n",
      "Detected text: consistency and user (Confidence: 0.66)\n",
      "Detected text: expenence (Confidence: 0.04)\n",
      "Detected text: [mnemenied (Confidence: 0.15)\n",
      "Detected text: Keact (Confidence: 0.32)\n",
      "Detected text: Ronter for (Confidence: 0.61)\n",
      "Detected text: @TAMC (Confidence: 0.20)\n",
      "Detected text: SPA (Confidence: 0.98)\n",
      "Detected text: qatention (Confidence: 0.13)\n",
      "Detected text: and collaborated (Confidence: 0.97)\n",
      "Detected text: Agile team (Confidence: 0.67)\n",
      "Detected text: M3[ (Confidence: 0.11)\n",
      "Detected text: Git / GitHub (Confidence: 0.64)\n",
      "Detected text: ahip iterative (Confidence: 0.88)\n",
      "Detected text: proquctOl-TEAqI (Confidence: 0.12)\n",
      "Detected text: TCAtes (Confidence: 0.11)\n",
      "Detected text: PROJECTS (Confidence: 0.83)\n",
      "Detected text: Intericwer (Confidence: 0.67)\n",
      "Detected text: Engiueerel (Confidence: 0.55)\n",
      "Detected text: interactive (Confidence: 0.75)\n",
      "Detected text: Keacl (Confidence: 0.23)\n",
      "Detected text: Vite frontend with Firebxse (Confidence: 0.51)\n",
      "Detected text: Authentication (Confidence: 0.53)\n",
      "Detected text: and Firestore (Confidence: 0.95)\n",
      "Detected text: integration. enabling (Confidence: 0.83)\n",
      "Detected text: 3nTIC lent (Confidence: 0.01)\n",
      "Detected text: management. dynamic interiew (Confidence: 0.86)\n",
      "Detected text: question delivery- and (Confidence: 0.60)\n",
      "Detected text: domain-specific practice (Confidence: 0.74)\n",
      "Detected text: ATpowered (Confidence: 0.45)\n",
      "Detected text: interen (Confidence: 0.20)\n",
      "Detected text: resumC aDalvsia (Confidence: 0.04)\n",
      "Detected text: platform (Confidence: 0.61)\n",
      "Detected text: GitHub) (Confidence: 0.75)\n",
      "Detected text: Blogging (Confidence: 0.96)\n",
      "Detected text: Website_ (Confidence: 0.69)\n",
      "Detected text: Huilt (Confidence: 0.82)\n",
      "Detected text: resnonsire (Confidence: 0.07)\n",
      "Detected text: scalaule (Confidence: 0.33)\n",
      "Detected text: blogging platform (Confidence: 0.86)\n",
      "Detected text: USIn@ (Confidence: 0.10)\n",
      "Detected text: React js (Confidence: 0.64)\n",
      "Detected text: Firelaco (Confidence: 0.15)\n",
      "Detected text: Authentiction (Confidence: 0.11)\n",
      "Detected text: and Firestore (Confidence: 0.90)\n",
      "Detected text: Database (Confidence: 0.25)\n",
      "Detected text: enabling (Confidence: 1.00)\n",
      "Detected text: sons (Confidence: 0.10)\n",
      "Detected text: securel (Confidence: 0.36)\n",
      "Detected text: create. eit . (Confidence: 0.84)\n",
      "Detected text: MAIAFC (Confidence: 0.09)\n",
      "Detected text: blog (Confidence: 0.83)\n",
      "Detected text: Dosts (Confidence: 0.06)\n",
      "Detected text: Integrated React (Confidence: 0.81)\n",
      "Detected text: Kouter (Confidence: 0.53)\n",
      "Detected text: senmies: (Confidence: 0.17)\n",
      "Detected text: HaTinaton_ (Confidence: 0.11)\n",
      "Detected text: HHIDCmeC (Confidence: 0.14)\n",
      "Detected text: modulal (Confidence: 0.39)\n",
      "Detected text: component = (Confidence: 0.42)\n",
      "Detected text: respunsii (Confidence: 0.47)\n",
      "Detected text: UIFUX (Confidence: 0.21)\n",
      "Detected text: CHAATC (Confidence: 0.12)\n",
      "Detected text: usablty (Confidence: 0.15)\n",
      "Detected text: DETTOrmanCC (Confidence: 0.12)\n",
      "Detected text: devics (Confidence: 0.73)\n",
      "Detected text: (Git Hub} (Confidence: 0.90)\n",
      "Detected text: E-commerce webpage (Confidence: 0.75)\n",
      "Detected text: Developed (Confidence: 0.75)\n",
      "Detected text: responsive (Confidence: 0.64)\n",
      "Detected text: accessible (Confidence: 0.41)\n",
      "Detected text: Mteraces (Confidence: 0.42)\n",
      "Detected text: and eusabj (Confidence: 0.07)\n",
      "Detected text: comonenI: (Confidence: 0.41)\n",
      "Detected text: React_Is. (Confidence: 0.45)\n",
      "Detected text: JavaScript (ES6+) HTMLS (Confidence: 0.64)\n",
      "Detected text: CSS; React Router. and Redlux Toolkit (Confidence: 0.36)\n",
      "Detected text: an Agile environment. improving (Confidence: 0.93)\n",
      "Detected text: CL perior- (Confidence: 0.21)\n",
      "Detected text: Userexnerienr (Confidence: 0.22)\n",
      "Detected text: ACTOSS (Confidence: 0.09)\n",
      "Detected text: dorice- (Confidence: 0.35)\n",
      "Detected text: (Git Hub) (Confidence: 0.76)\n",
      "Detected text: CrprFi (Confidence: 0.12)\n",
      "Detected text: ATIONS (Confidence: 0.99)\n",
      "Detected text: Complete TaaScript €OuISC: (Confidence: 0.28)\n",
      "Detected text: Jonas Schmnedtman (Confidence: 0.37)\n",
      "Detected text: Git Tutorial Certifcate: IEM Skills Huild (Confidence: 0.31)\n",
      "Detected text: Faget (Confidence: 0.35)\n",
      "Detected text: ED (Confidence: 0.45)\n",
      "Detected text: Toula (Confidence: 0.20)\n",
      "Detected text: Nol (Confidence: 0.57)\n",
      "Detected text: Lta (Confidence: 0.17)\n",
      "Detected text: ILCIOr (Confidence: 0.04)\n",
      "Detected text: Winx (Confidence: 0.76)\n"
     ]
    }
   ],
   "source": [
    "import easyocr\n",
    "\n",
    "reader = easyocr.Reader(['en'])\n",
    "\n",
    "results = reader.readtext('output_images\\page_1.png')\n",
    "\n",
    "for (bbox, text, prob) in results:\n",
    "    print(f\"Detected text: {text} (Confidence: {prob:.2f})\")\n"
   ]
  },
  {
   "cell_type": "code",
   "execution_count": 14,
   "id": "3cac5847",
   "metadata": {},
   "outputs": [
    {
     "name": "stdout",
     "output_type": "stream",
     "text": [
      "Requirement already satisfied: pytesseract in c:\\users\\prath\\appdata\\local\\programs\\python\\python310\\lib\\site-packages (0.3.13)\n",
      "Requirement already satisfied: pillow in c:\\users\\prath\\appdata\\local\\programs\\python\\python310\\lib\\site-packages (11.3.0)\n",
      "Requirement already satisfied: opencv-python in c:\\users\\prath\\appdata\\local\\programs\\python\\python310\\lib\\site-packages (4.12.0.88)\n",
      "Requirement already satisfied: packaging>=21.3 in c:\\users\\prath\\appdata\\local\\programs\\python\\python310\\lib\\site-packages (from pytesseract) (23.2)\n",
      "Requirement already satisfied: numpy<2.3.0,>=2 in c:\\users\\prath\\appdata\\local\\programs\\python\\python310\\lib\\site-packages (from opencv-python) (2.2.6)\n",
      "Note: you may need to restart the kernel to use updated packages.\n"
     ]
    },
    {
     "name": "stderr",
     "output_type": "stream",
     "text": [
      "WARNING: Ignoring invalid distribution -treamlit (c:\\users\\prath\\appdata\\local\\programs\\python\\python310\\lib\\site-packages)\n",
      "WARNING: Ignoring invalid distribution -treamlit (c:\\users\\prath\\appdata\\local\\programs\\python\\python310\\lib\\site-packages)\n",
      "WARNING: Ignoring invalid distribution -treamlit (c:\\users\\prath\\appdata\\local\\programs\\python\\python310\\lib\\site-packages)\n"
     ]
    }
   ],
   "source": [
    "pip install pytesseract pillow opencv-python\n"
   ]
  },
  {
   "cell_type": "code",
   "execution_count": 1,
   "id": "f2b35aa1",
   "metadata": {},
   "outputs": [
    {
     "name": "stdout",
     "output_type": "stream",
     "text": [
      "Assignment 1\n",
      "Cyber Forensies and Cyber Crime Investigation (OAEAIST)\n",
      "\n",
      "Qt- Give deuiled classification feyberermes.\n",
      "(Q2- Explain Phishing and its forms\n",
      "(03 Explain crimes elated to IPRs. Discuss ther lga aspect in India\n",
      "\n",
      "(Q4- Discuss the Indian legal remediation available for eyber stalking and eyber pornography\n",
      "\n"
     ]
    }
   ],
   "source": [
    "import pytesseract\n",
    "from PIL import Image\n",
    "\n",
    "# Path to tesseract.exe (only needed on Windows)\n",
    "pytesseract.pytesseract.tesseract_cmd = r\"C:\\Program Files\\Tesseract-OCR\\tesseract.exe\"\n",
    "\n",
    "# Open image\n",
    "img = Image.open(\"output_images\\page_1.png\")\n",
    "\n",
    "# Extract text\n",
    "text = pytesseract.image_to_string(img)\n",
    "print(text)\n",
    "\n"
   ]
  },
  {
   "cell_type": "code",
   "execution_count": 1,
   "id": "a2e4a021",
   "metadata": {},
   "outputs": [],
   "source": [
    "import pytesseract"
   ]
  },
  {
   "cell_type": "code",
   "execution_count": null,
   "id": "c585723e",
   "metadata": {},
   "outputs": [],
   "source": []
  }
 ],
 "metadata": {
  "kernelspec": {
   "display_name": "Python 3",
   "language": "python",
   "name": "python3"
  },
  "language_info": {
   "codemirror_mode": {
    "name": "ipython",
    "version": 3
   },
   "file_extension": ".py",
   "mimetype": "text/x-python",
   "name": "python",
   "nbconvert_exporter": "python",
   "pygments_lexer": "ipython3",
   "version": "3.10.9"
  }
 },
 "nbformat": 4,
 "nbformat_minor": 5
}
