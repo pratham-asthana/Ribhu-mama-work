{
 "cells": [
  {
   "cell_type": "code",
   "execution_count": 3,
   "id": "76ccb5e1",
   "metadata": {},
   "outputs": [
    {
     "name": "stdout",
     "output_type": "stream",
     "text": [
      "Requirement already satisfied: python-docx in c:\\users\\prath\\appdata\\local\\programs\\python\\python310\\lib\\site-packages (1.2.0)\n",
      "Requirement already satisfied: lxml>=3.1.0 in c:\\users\\prath\\appdata\\local\\programs\\python\\python310\\lib\\site-packages (from python-docx) (5.4.0)\n",
      "Requirement already satisfied: typing_extensions>=4.9.0 in c:\\users\\prath\\appdata\\local\\programs\\python\\python310\\lib\\site-packages (from python-docx) (4.14.1)\n"
     ]
    },
    {
     "name": "stderr",
     "output_type": "stream",
     "text": [
      "WARNING: Ignoring invalid distribution -treamlit (c:\\users\\prath\\appdata\\local\\programs\\python\\python310\\lib\\site-packages)\n",
      "WARNING: Ignoring invalid distribution -treamlit (c:\\users\\prath\\appdata\\local\\programs\\python\\python310\\lib\\site-packages)\n",
      "WARNING: Ignoring invalid distribution -treamlit (c:\\users\\prath\\appdata\\local\\programs\\python\\python310\\lib\\site-packages)\n"
     ]
    }
   ],
   "source": [
    "!pip install python-docx"
   ]
  },
  {
   "cell_type": "code",
   "execution_count": 1,
   "id": "23594573",
   "metadata": {},
   "outputs": [
    {
     "name": "stdout",
     "output_type": "stream",
     "text": [
      "Hi, my name is Pratham Asthana. I am currently pursuing B.Tech in AI&ML. \n",
      "This word file is to test whether the code is able to extract text from word documents or not.\n",
      "\n"
     ]
    }
   ],
   "source": [
    "from docx import Document\n",
    "\n",
    "def extract_text_from_docx(file_path):\n",
    "    doc = Document(file_path)\n",
    "    text = \"\"\n",
    "    for para in doc.paragraphs:\n",
    "        text += para.text + \"\\n\"\n",
    "    \n",
    "    return text\n",
    "\n",
    "file_path = \"test.docx\"  \n",
    "content = extract_text_from_docx(file_path)\n",
    "print(content)\n"
   ]
  },
  {
   "cell_type": "code",
   "execution_count": null,
   "id": "ccf8b20a",
   "metadata": {},
   "outputs": [],
   "source": [
    "import pyttsx3\n",
    "\n",
    "engine = pyttsx3.init()\n",
    "\n",
    "engine.setProperty('rate', 150)     \n",
    "engine.setProperty('volume', 1.0)   \n",
    "\n",
    "engine.say(content)\n",
    "engine.runAndWait()\n"
   ]
  },
  {
   "cell_type": "code",
   "execution_count": 7,
   "id": "57754d59",
   "metadata": {},
   "outputs": [
    {
     "name": "stdout",
     "output_type": "stream",
     "text": [
      "^C\n"
     ]
    }
   ],
   "source": [
    "!pip uninstall pdf2image "
   ]
  },
  {
   "cell_type": "code",
   "execution_count": 8,
   "id": "3ba3cf1b",
   "metadata": {},
   "outputs": [
    {
     "name": "stdout",
     "output_type": "stream",
     "text": [
      "Collecting PyMuPDF\n",
      "  Downloading pymupdf-1.26.5-cp39-abi3-win_amd64.whl.metadata (3.4 kB)\n",
      "Requirement already satisfied: pillow in c:\\users\\prath\\appdata\\local\\programs\\python\\python310\\lib\\site-packages (11.3.0)\n",
      "Downloading pymupdf-1.26.5-cp39-abi3-win_amd64.whl (18.7 MB)\n",
      "   ---------------------------------------- 0.0/18.7 MB ? eta -:--:--\n",
      "   -- ------------------------------------- 1.0/18.7 MB 5.6 MB/s eta 0:00:04\n",
      "   --- ------------------------------------ 1.8/18.7 MB 5.0 MB/s eta 0:00:04\n",
      "   ------ --------------------------------- 2.9/18.7 MB 4.5 MB/s eta 0:00:04\n",
      "   ------- -------------------------------- 3.7/18.7 MB 4.5 MB/s eta 0:00:04\n",
      "   ---------- ----------------------------- 4.7/18.7 MB 4.7 MB/s eta 0:00:03\n",
      "   ------------ --------------------------- 5.8/18.7 MB 4.8 MB/s eta 0:00:03\n",
      "   ------------- -------------------------- 6.6/18.7 MB 4.7 MB/s eta 0:00:03\n",
      "   --------------- ------------------------ 7.1/18.7 MB 4.5 MB/s eta 0:00:03\n",
      "   ----------------- ---------------------- 8.1/18.7 MB 4.3 MB/s eta 0:00:03\n",
      "   ------------------- -------------------- 9.2/18.7 MB 4.4 MB/s eta 0:00:03\n",
      "   -------------------- ------------------- 9.7/18.7 MB 4.3 MB/s eta 0:00:03\n",
      "   ---------------------- ----------------- 10.7/18.7 MB 4.3 MB/s eta 0:00:02\n",
      "   ------------------------- -------------- 11.8/18.7 MB 4.4 MB/s eta 0:00:02\n",
      "   -------------------------- ------------- 12.6/18.7 MB 4.3 MB/s eta 0:00:02\n",
      "   ----------------------------- ---------- 13.6/18.7 MB 4.4 MB/s eta 0:00:02\n",
      "   ------------------------------- -------- 14.7/18.7 MB 4.4 MB/s eta 0:00:01\n",
      "   --------------------------------- ------ 15.5/18.7 MB 4.4 MB/s eta 0:00:01\n",
      "   ---------------------------------- ----- 16.3/18.7 MB 4.3 MB/s eta 0:00:01\n",
      "   ------------------------------------ --- 17.0/18.7 MB 4.3 MB/s eta 0:00:01\n",
      "   ------------------------------------- -- 17.6/18.7 MB 4.2 MB/s eta 0:00:01\n",
      "   ------------------------------------- -- 17.6/18.7 MB 4.2 MB/s eta 0:00:01\n",
      "   -------------------------------------- - 17.8/18.7 MB 4.0 MB/s eta 0:00:01\n",
      "   ---------------------------------------  18.4/18.7 MB 3.8 MB/s eta 0:00:01\n",
      "   ---------------------------------------- 18.7/18.7 MB 3.7 MB/s  0:00:05\n",
      "Installing collected packages: PyMuPDF\n",
      "Successfully installed PyMuPDF-1.26.5\n",
      "Note: you may need to restart the kernel to use updated packages.\n"
     ]
    },
    {
     "name": "stderr",
     "output_type": "stream",
     "text": [
      "WARNING: Ignoring invalid distribution -treamlit (c:\\users\\prath\\appdata\\local\\programs\\python\\python310\\lib\\site-packages)\n",
      "WARNING: Ignoring invalid distribution -treamlit (c:\\users\\prath\\appdata\\local\\programs\\python\\python310\\lib\\site-packages)\n",
      "WARNING: Ignoring invalid distribution -treamlit (c:\\users\\prath\\appdata\\local\\programs\\python\\python310\\lib\\site-packages)\n"
     ]
    }
   ],
   "source": [
    "pip install PyMuPDF pillow\n"
   ]
  },
  {
   "cell_type": "code",
   "execution_count": null,
   "id": "43b33760",
   "metadata": {},
   "outputs": [
    {
     "name": "stdout",
     "output_type": "stream",
     "text": [
      "✅ Saved output_images\\page_1.png\n"
     ]
    }
   ],
   "source": [
    "import fitz  \n",
    "from PIL import Image\n",
    "import os\n",
    "\n",
    "def pdf_to_images_fitz(pdf_path, output_folder):\n",
    "    os.makedirs(output_folder, exist_ok=True)\n",
    "    \n",
    "    with fitz.open(pdf_path) as pdf:\n",
    "        for page_num in range(len(pdf)):\n",
    "            page = pdf.load_page(page_num)\n",
    "            pix = page.get_pixmap()\n",
    "            img_path = os.path.join(output_folder, f\"page_{page_num + 1}.png\")\n",
    "            pix.save(img_path)\n",
    "            print(f\" Saved {img_path}\")\n",
    "\n",
    "pdf_to_images_fitz(\"assignment.pdf\", \"output_images\")\n"
   ]
  },
  {
   "cell_type": "code",
   "execution_count": null,
   "id": "f1998430",
   "metadata": {},
   "outputs": [],
   "source": []
  }
 ],
 "metadata": {
  "kernelspec": {
   "display_name": "Python 3",
   "language": "python",
   "name": "python3"
  },
  "language_info": {
   "codemirror_mode": {
    "name": "ipython",
    "version": 3
   },
   "file_extension": ".py",
   "mimetype": "text/x-python",
   "name": "python",
   "nbconvert_exporter": "python",
   "pygments_lexer": "ipython3",
   "version": "3.10.9"
  }
 },
 "nbformat": 4,
 "nbformat_minor": 5
}
